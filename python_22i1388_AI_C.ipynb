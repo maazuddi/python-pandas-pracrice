{
 "cells": [
  {
   "cell_type": "markdown",
   "metadata": {
    "id": "yZUfT3i7CjcU"
   },
   "source": [
    "# Lab Task 01"
   ]
  },
  {
   "cell_type": "markdown",
   "metadata": {
    "id": "cFvXKV7FCd5E"
   },
   "source": [
    "Write a function to return True if the first and last number of a given list is same. If numbers are different then return False."
   ]
  },
  {
   "cell_type": "code",
   "execution_count": 3,
   "metadata": {
    "id": "GXktR4r5Coyi"
   },
   "outputs": [
    {
     "name": "stdout",
     "output_type": "stream",
     "text": [
      "true\n",
      "false\n"
     ]
    }
   ],
   "source": [
    "# Given:\n",
    "numbers_x = [10, 20, 30, 40, 10]\n",
    "numbers_y = [75, 65, 35, 75, 30]\n",
    "\n",
    "# Expected Output:\n",
    "# Given list: [10, 20, 30, 40, 10]\n",
    "# result is True\n",
    "\n",
    "# numbers_y = [75, 65, 35, 75, 30]\n",
    "# result is False\n",
    "if numbers_x[0] == numbers_x[len(numbers_x)-1]:\n",
    "    print(\"true\")\n",
    "else:\n",
    "    print(\"false\")\n",
    "if numbers_y[0] == numbers_y[len(numbers_y)-1]:\n",
    "    print(\"true\")\n",
    "else:\n",
    "    print(\"false\")"
   ]
  },
  {
   "cell_type": "markdown",
   "metadata": {
    "id": "UwFZ7OjICrlQ"
   },
   "source": [
    "\n",
    "\n",
    "\n",
    "\n",
    "# Lab Task 02"
   ]
  },
  {
   "cell_type": "markdown",
   "metadata": {
    "id": "GWQ2AhPcCufC"
   },
   "source": [
    "Create two NumPy arrays of the same shape and perform element-wise addition on them.\n",
    "\n",
    "Calculate the element-wise product of two NumPy arrays."
   ]
  },
  {
   "cell_type": "code",
   "execution_count": 10,
   "metadata": {
    "id": "jZNfvManCxjQ"
   },
   "outputs": [
    {
     "name": "stdout",
     "output_type": "stream",
     "text": [
      "sum [ 2  4  6  8 10 12 14 16 18 20 22 24]\n",
      "product [  1   4   9  16  25  36  49  64  81 100 121 144]\n"
     ]
    }
   ],
   "source": [
    "#code here\n",
    "import numpy as np\n",
    "array_1 = [1,2,3,4,5,6,7,8,9,10,11,12]\n",
    "array_1 = np.array(array_1)\n",
    "array_2 = [1,2,3,4,5,6,7,8,9,10,11,12]\n",
    "array_2 = np.array(array_2)\n",
    "sum = array_1 + array_2\n",
    "print(\"sum\" , sum)\n",
    "prod = array_1 * array_2\n",
    "print(\"product\" , prod)\n"
   ]
  },
  {
   "cell_type": "markdown",
   "metadata": {
    "id": "DR3RvooloecS"
   },
   "source": [
    "# Lab Task 03"
   ]
  },
  {
   "cell_type": "markdown",
   "metadata": {
    "id": "Oi-yFvItoWzc"
   },
   "source": [
    "Reshape a 1D NumPy array into a 2D array with dimensions (3, 4).\n",
    "\n",
    "Concatenate two NumPy arrays horizontally and vertically."
   ]
  },
  {
   "cell_type": "code",
   "execution_count": 20,
   "metadata": {
    "id": "c379PMYOobDK"
   },
   "outputs": [
    {
     "name": "stdout",
     "output_type": "stream",
     "text": [
      "2D array from 1D array\n",
      " [[ 1  2  3  4]\n",
      " [ 5  6  7  8]\n",
      " [ 9 10 11 12]]\n",
      "horizental concatinate \n",
      " [[ 1  2  3  4  1  2  3  4]\n",
      " [ 5  6  7  8  5  6  7  8]\n",
      " [ 9 10 11 12  9 10 11 12]]\n",
      "horizental concatinate \n",
      " [[ 1  2  3  4]\n",
      " [ 5  6  7  8]\n",
      " [ 9 10 11 12]\n",
      " [ 1  2  3  4]\n",
      " [ 5  6  7  8]\n",
      " [ 9 10 11 12]]\n"
     ]
    }
   ],
   "source": [
    "#code here\n",
    "array_1 = [1,2,3,4,5,6,7,8,9,10,11,12]\n",
    "array_1 = np.array(array_1)\n",
    "array_2D_1 = array_1.reshape(3,4)\n",
    "array_2 = [1,2,3,4,5,6,7,8,9,10,11,12]\n",
    "array_2 = np.array(array_2)\n",
    "array_2D_2 = array_2.reshape(3,4)\n",
    "print(\"2D array from 1D array\\n\" , array_2D_1)\n",
    "concate_h = np.concatenate((array_2D_1,array_2D_2),1)\n",
    "print(\"horizental concatinate \\n\",concate_h)\n",
    "concate_v = np.concatenate((array_2D_1,array_2D_2),0)\n",
    "print(\"horizental concatinate \\n\",concate_v)"
   ]
  },
  {
   "cell_type": "markdown",
   "metadata": {
    "id": "QyAHL3cppQvA"
   },
   "source": [
    "# Lab Task 04\n",
    "\n"
   ]
  },
  {
   "cell_type": "markdown",
   "metadata": {
    "id": "n9ljQa5NopJD"
   },
   "source": [
    "\n",
    "## Online Store Shopping Cart\n",
    "Write a Python program to simulate the online store's shopping cart system. The program should use a while loop to provide an interactive shopping experience.\n",
    "\n",
    "\n",
    "### Tasks:\n",
    "* Initialize an empty list called shopping_cart to store items.\n",
    "* Display a welcome message and available products.\n",
    "* Loop should be iterating over AI Response Simulator and Investment decision and keep asking for user input.\n",
    "* Prompt the user to enter the number corresponding to the product they want to add to the cart.\n",
    "* Check if the user entered 'q'. If so, break the loop.\n",
    "* Convert the choice to an integer and validate it within the valid range (1 to 3).\n",
    "* Based on the user's choice, add the selected product to the shopping_cart list.\n",
    "* Display a confirmation message indicating the added product.\n",
    "* Continue the loop to allow the user to add more products or proceed to checkout.\n",
    "* After the loop ends, display the contents of the shopping cart.\n",
    "* Display a goodbye message.\n",
    "* End the program.\n"
   ]
  },
  {
   "cell_type": "code",
   "execution_count": 9,
   "metadata": {
    "id": "9huwf9wVpWFf"
   },
   "outputs": [
    {
     "name": "stdout",
     "output_type": "stream",
     "text": [
      "-----WELCOME FOR SHOPPING------\n",
      "\n",
      "availible product :  ['1. sugar', '2. eggs', '3. cake']\n"
     ]
    },
    {
     "name": "stdin",
     "output_type": "stream",
     "text": [
      "\n",
      "ENTER number corresponding to product and if you want to quit press q\n",
      " 1\n"
     ]
    },
    {
     "name": "stdout",
     "output_type": "stream",
     "text": [
      "Product added to your cart\n",
      "\n"
     ]
    },
    {
     "name": "stdin",
     "output_type": "stream",
     "text": [
      "\n",
      "ENTER number corresponding to product and if you want to quit press q\n",
      " 2\n"
     ]
    },
    {
     "name": "stdout",
     "output_type": "stream",
     "text": [
      "Product added to your cart\n",
      "\n"
     ]
    },
    {
     "name": "stdin",
     "output_type": "stream",
     "text": [
      "\n",
      "ENTER number corresponding to product and if you want to quit press q\n",
      " 2\n"
     ]
    },
    {
     "name": "stdout",
     "output_type": "stream",
     "text": [
      "Product added to your cart\n",
      "\n"
     ]
    },
    {
     "name": "stdin",
     "output_type": "stream",
     "text": [
      "\n",
      "ENTER number corresponding to product and if you want to quit press q\n",
      " 3\n"
     ]
    },
    {
     "name": "stdout",
     "output_type": "stream",
     "text": [
      "Product added to your cart\n",
      "\n"
     ]
    },
    {
     "name": "stdin",
     "output_type": "stream",
     "text": [
      "\n",
      "ENTER number corresponding to product and if you want to quit press q\n",
      " q\n"
     ]
    },
    {
     "name": "stdout",
     "output_type": "stream",
     "text": [
      "products added to your cart are : \n",
      "1. sugar --- 250\n",
      "2. eggs --- 360\n",
      "2. eggs --- 360\n",
      "3. cake --- 200\n",
      "Total Amount :  1170\n",
      "-----GOOD BYE------\n"
     ]
    }
   ],
   "source": [
    "#Code here\n",
    "shopping_cart = []\n",
    "print(\"-----WELCOME FOR SHOPPING------\\n\")\n",
    "products = [\"1. sugar\",\"2. eggs\",\"3. cake\"]\n",
    "price = [250,360,200]\n",
    "print(\"availible product : \",products)\n",
    "while(True):\n",
    "    user = input(\"\\nENTER number corresponding to product and if you want to quit press q\\n\")\n",
    "    if user.lower() == \"q\":\n",
    "        break\n",
    "    else:\n",
    "        user = int(user)-1\n",
    "        if user <= 3:\n",
    "            print(\"Product added to your cart\\n\")\n",
    "            shopping_cart.append(user)\n",
    "        else:\n",
    "            print(\"product not availible\\n\")\n",
    "total = 0\n",
    "if len(shopping_cart) != 0:\n",
    "    print(\"products added to your cart are : \")\n",
    "    for i in range(len(shopping_cart)):\n",
    "        print(products[shopping_cart[i]],\"---\",price[shopping_cart[i]])\n",
    "        total+=price[shopping_cart[i]]\n",
    "    print(\"Total Amount : \" , total)\n",
    "else:\n",
    "    print(\"your shopping cart is empty\\n\")\n",
    "print(\"-----GOOD BYE------\")"
   ]
  },
  {
   "cell_type": "markdown",
   "metadata": {
    "id": "Dv9DtQ3jp6mq"
   },
   "source": [
    "# Lab Task 05"
   ]
  },
  {
   "cell_type": "markdown",
   "metadata": {
    "id": "2i6-zm_1ZAdn"
   },
   "source": [
    "\n",
    "## Email Classification\n",
    "Develope a tool which will classify an email.\n",
    "\n",
    "### Tasks:\n",
    "* Create a function classify_emails that takes a list of emails as an argument.\n",
    "* Inside the function, categorize emails into \"Important,\" \"Promotions,\" and \"Spam\" based on keywords and content analysis.\n",
    "* Loop through the emails and identify keywords to determine their category.\n",
    "* If an email contains keywords indicating importance, assign it as \"Important.\"\n",
    "* If an email contains keywords related to promotions or deals, assign it as \"Promotions.\"\n",
    "* If an email is suspected to be spam based on certain keywords or patterns, assign it as \"Spam.\"\n",
    "* Return three lists of emails for each category.\n",
    "* Print the lists."
   ]
  },
  {
   "cell_type": "code",
   "execution_count": 84,
   "metadata": {
    "id": "SnCGPkq-o84Z"
   },
   "outputs": [
    {
     "ename": "ModuleNotFoundError",
     "evalue": "No module named 'nltk'",
     "output_type": "error",
     "traceback": [
      "\u001b[0;31m---------------------------------------------------------------------------\u001b[0m",
      "\u001b[0;31mModuleNotFoundError\u001b[0m                       Traceback (most recent call last)",
      "Cell \u001b[0;32mIn[84], line 2\u001b[0m\n\u001b[1;32m      1\u001b[0m \u001b[38;5;66;03m#code here\u001b[39;00m\n\u001b[0;32m----> 2\u001b[0m \u001b[38;5;28;01mfrom\u001b[39;00m \u001b[38;5;21;01mnltk\u001b[39;00m \u001b[38;5;28;01mimport\u001b[39;00m word_tokenize\n\u001b[1;32m      3\u001b[0m important \u001b[38;5;241m=\u001b[39m [\u001b[38;5;124m\"\u001b[39m\u001b[38;5;124mimportant\u001b[39m\u001b[38;5;124m\"\u001b[39m,\u001b[38;5;124m\"\u001b[39m\u001b[38;5;124mimportance\u001b[39m\u001b[38;5;124m\"\u001b[39m,\u001b[38;5;124m\"\u001b[39m\u001b[38;5;124msignificance\u001b[39m\u001b[38;5;124m\"\u001b[39m,\u001b[38;5;124m\"\u001b[39m\u001b[38;5;124museful\u001b[39m\u001b[38;5;124m\"\u001b[39m, \u001b[38;5;124m\"\u001b[39m\u001b[38;5;124mdeadline\u001b[39m\u001b[38;5;124m\"\u001b[39m , \u001b[38;5;124m\"\u001b[39m\u001b[38;5;124mtimeline\u001b[39m\u001b[38;5;124m\"\u001b[39m ,\n\u001b[1;32m      4\u001b[0m              \u001b[38;5;124m\"\u001b[39m\u001b[38;5;124mdatesheet\u001b[39m\u001b[38;5;124m\"\u001b[39m , \u001b[38;5;124m\"\u001b[39m\u001b[38;5;124mdata\u001b[39m\u001b[38;5;124m\"\u001b[39m , \u001b[38;5;124m\"\u001b[39m\u001b[38;5;124mfriend\u001b[39m\u001b[38;5;124m\"\u001b[39m , \u001b[38;5;124m\"\u001b[39m\u001b[38;5;124msir\u001b[39m\u001b[38;5;124m\"\u001b[39m , \u001b[38;5;124m\"\u001b[39m\u001b[38;5;124mstudent\u001b[39m\u001b[38;5;124m\"\u001b[39m , \u001b[38;5;124m\"\u001b[39m\u001b[38;5;124mteacher\u001b[39m\u001b[38;5;124m\"\u001b[39m ,\n\u001b[1;32m      5\u001b[0m              \u001b[38;5;124m\"\u001b[39m\u001b[38;5;124muniversity\u001b[39m\u001b[38;5;124m\"\u001b[39m, \u001b[38;5;124m\"\u001b[39m\u001b[38;5;124mbusiness\u001b[39m\u001b[38;5;124m\"\u001b[39m , \u001b[38;5;124m\"\u001b[39m\u001b[38;5;124mverification\u001b[39m\u001b[38;5;124m\"\u001b[39m , \u001b[38;5;124m\"\u001b[39m\u001b[38;5;124mverify\u001b[39m\u001b[38;5;124m\"\u001b[39m , \u001b[38;5;124m\"\u001b[39m\u001b[38;5;124mcode\u001b[39m\u001b[38;5;124m\"\u001b[39m]\n\u001b[1;32m      6\u001b[0m spam \u001b[38;5;241m=\u001b[39m [\u001b[38;5;124m\"\u001b[39m\u001b[38;5;124mCash bonus\u001b[39m\u001b[38;5;124m\"\u001b[39m , \u001b[38;5;124m\"\u001b[39m\u001b[38;5;124mCents on the dollar\u001b[39m\u001b[38;5;124m\"\u001b[39m , \u001b[38;5;124m\"\u001b[39m\u001b[38;5;124mDouble your cash\u001b[39m\u001b[38;5;124m\"\u001b[39m , \u001b[38;5;124m\"\u001b[39m\u001b[38;5;124mEarn extra cash\u001b[39m\u001b[38;5;124m\"\u001b[39m,\n\u001b[1;32m      7\u001b[0m        \u001b[38;5;124m\"\u001b[39m\u001b[38;5;124mFree consultation\u001b[39m\u001b[38;5;124m\"\u001b[39m , \u001b[38;5;124m\"\u001b[39m\u001b[38;5;124mFree investment\u001b[39m\u001b[38;5;124m\"\u001b[39m , \u001b[38;5;124m\"\u001b[39m\u001b[38;5;124mFree membership\u001b[39m\u001b[38;5;124m\"\u001b[39m , \u001b[38;5;124m\"\u001b[39m\u001b[38;5;124mIncrease sales\u001b[39m\u001b[38;5;124m\"\u001b[39m,\n\u001b[1;32m      8\u001b[0m        \u001b[38;5;124m\"\u001b[39m\u001b[38;5;124mPure profit\u001b[39m\u001b[38;5;124m\"\u001b[39m , \u001b[38;5;124m\"\u001b[39m\u001b[38;5;124mApply now\u001b[39m\u001b[38;5;124m\"\u001b[39m , \u001b[38;5;124m\"\u001b[39m\u001b[38;5;124mOrder now\u001b[39m\u001b[38;5;124m\"\u001b[39m]\n",
      "\u001b[0;31mModuleNotFoundError\u001b[0m: No module named 'nltk'"
     ]
    }
   ],
   "source": [
    "#code here\n",
    "from nltk import word_tokenize\n",
    "important = [\"important\",\"importance\",\"significance\",\"useful\", \"deadline\" , \"timeline\" ,\n",
    "             \"datesheet\" , \"data\" , \"friend\" , \"sir\" , \"student\" , \"teacher\" ,\n",
    "             \"university\", \"business\" , \"verification\" , \"verify\" , \"code\"]\n",
    "spam = [\"Cash bonus\" , \"Cents on the dollar\" , \"Double your cash\" , \"Earn extra cash\",\n",
    "       \"Free consultation\" , \"Free investment\" , \"Free membership\" , \"Increase sales\",\n",
    "       \"Pure profit\" , \"Apply now\" , \"Order now\"]\n",
    "promotion = [\"sales\" , \"product\" \"beautiful\" , \"advertising\" , \"publicity\" , \"localizing\",\n",
    "            \"promoting\" , \"clinet\" , \"customer\" , \"market\" , \"shop\" , \"price\"]\n",
    "def classify_emails(email):\n",
    "    tokens = word_tokenize(email)\n",
    "    for i in email:\n",
    "        if i in important:\n",
    "            print(\"This email is important\")\n",
    "            break\n",
    "        if i in spam:\n",
    "            print(\"This email is spam\")\n",
    "            break\n",
    "        if i in promotion:\n",
    "            print(\"This email is promotion\")\n",
    "            break\n",
    "\n",
    "for i in emails:\n",
    "    classify_emails(i)\n",
    "    "
   ]
  },
  {
   "cell_type": "markdown",
   "metadata": {
    "id": "amtV-GLWpCC7"
   },
   "source": [
    "# Lab Task 06"
   ]
  },
  {
   "cell_type": "markdown",
   "metadata": {
    "id": "M2Zg-XsUpC72"
   },
   "source": [
    "## English-Spanish Dictionary\n",
    "You are creating a basic English-Spanish dictionary that allows users to look up English words and find their Spanish translations.\n",
    "\n",
    "\n",
    "### Tasks\n",
    "* Create a dictionary where English words are keys and their Spanish translations are values.\n",
    "* Ask the user to input an English word.\n",
    "* Check if the word exists in the dictionary.\n",
    "* If the word exists, print its Spanish translation.\n",
    "* If the word does not exist, inform the user that the translation is not available.\n",
    "* Implement a loop that allows the user to keep looking up words until they choose to exit.\n"
   ]
  },
  {
   "cell_type": "code",
   "execution_count": 83,
   "metadata": {
    "id": "7RKtYbMZpJdh"
   },
   "outputs": [
    {
     "name": "stdin",
     "output_type": "stream",
     "text": [
      "enter the word to translate in spanish or enter q to exit hello\n"
     ]
    },
    {
     "name": "stdout",
     "output_type": "stream",
     "text": [
      "hola\n"
     ]
    },
    {
     "name": "stdin",
     "output_type": "stream",
     "text": [
      "enter the word to translate in spanish or enter q to exit q\n"
     ]
    },
    {
     "name": "stdout",
     "output_type": "stream",
     "text": [
      "----GOOD BYE-----\n"
     ]
    }
   ],
   "source": [
    "#code here\n",
    "dictionary = { \"hello\" : \"hola\" , \"love\" : \"amor\" , \"happiness\" : \"falicidad\",\n",
    "           \"cat\" : \"gato\" , \"dog\" : \"perro\" , \"smile\":\"sonerier\" , \"yes\" : \"si\"}\n",
    "while(True):\n",
    "    user = input(\"enter the word to translate in spanish or enter q to exit\")\n",
    "    if user == \"q\":\n",
    "        break\n",
    "    else:\n",
    "        if user in dictionary:\n",
    "            print(dictionary[user])\n",
    "        else: \n",
    "            print(\"word not availible\")\n",
    "print(\"----GOOD BYE-----\")"
   ]
  },
  {
   "cell_type": "markdown",
   "metadata": {
    "id": "h_8wOMWitspv"
   },
   "source": [
    "# Lab Task 07"
   ]
  },
  {
   "cell_type": "code",
   "execution_count": 10,
   "metadata": {},
   "outputs": [
    {
     "name": "stderr",
     "output_type": "stream",
     "text": [
      "/tmp/ipykernel_6210/2778003234.py:1: DeprecationWarning: \n",
      "Pyarrow will become a required dependency of pandas in the next major release of pandas (pandas 3.0),\n",
      "(to allow more performant data types, such as the Arrow string type, and better interoperability with other libraries)\n",
      "but was not found to be installed on your system.\n",
      "If this would cause problems for you,\n",
      "please provide us feedback at https://github.com/pandas-dev/pandas/issues/54466\n",
      "        \n",
      "  import pandas as pd\n"
     ]
    },
    {
     "data": {
      "text/html": [
       "<div>\n",
       "<style scoped>\n",
       "    .dataframe tbody tr th:only-of-type {\n",
       "        vertical-align: middle;\n",
       "    }\n",
       "\n",
       "    .dataframe tbody tr th {\n",
       "        vertical-align: top;\n",
       "    }\n",
       "\n",
       "    .dataframe thead th {\n",
       "        text-align: right;\n",
       "    }\n",
       "</style>\n",
       "<table border=\"1\" class=\"dataframe\">\n",
       "  <thead>\n",
       "    <tr style=\"text-align: right;\">\n",
       "      <th></th>\n",
       "      <th>Rank</th>\n",
       "      <th>Name</th>\n",
       "      <th>Platform</th>\n",
       "      <th>Year</th>\n",
       "      <th>Genre</th>\n",
       "      <th>Publisher</th>\n",
       "      <th>NA_Sales</th>\n",
       "      <th>EU_Sales</th>\n",
       "      <th>JP_Sales</th>\n",
       "      <th>Other_Sales</th>\n",
       "      <th>Global_Sales</th>\n",
       "    </tr>\n",
       "  </thead>\n",
       "  <tbody>\n",
       "    <tr>\n",
       "      <th>0</th>\n",
       "      <td>1</td>\n",
       "      <td>Wii Sports</td>\n",
       "      <td>Wii</td>\n",
       "      <td>2006.0</td>\n",
       "      <td>Sports</td>\n",
       "      <td>Nintendo</td>\n",
       "      <td>41.49</td>\n",
       "      <td>29.02</td>\n",
       "      <td>3.77</td>\n",
       "      <td>8.46</td>\n",
       "      <td>82.74</td>\n",
       "    </tr>\n",
       "    <tr>\n",
       "      <th>1</th>\n",
       "      <td>2</td>\n",
       "      <td>Super Mario Bros.</td>\n",
       "      <td>NES</td>\n",
       "      <td>1985.0</td>\n",
       "      <td>Platform</td>\n",
       "      <td>Nintendo</td>\n",
       "      <td>29.08</td>\n",
       "      <td>3.58</td>\n",
       "      <td>6.81</td>\n",
       "      <td>0.77</td>\n",
       "      <td>40.24</td>\n",
       "    </tr>\n",
       "    <tr>\n",
       "      <th>2</th>\n",
       "      <td>3</td>\n",
       "      <td>Mario Kart Wii</td>\n",
       "      <td>Wii</td>\n",
       "      <td>2008.0</td>\n",
       "      <td>Racing</td>\n",
       "      <td>Nintendo</td>\n",
       "      <td>15.85</td>\n",
       "      <td>12.88</td>\n",
       "      <td>3.79</td>\n",
       "      <td>3.31</td>\n",
       "      <td>35.82</td>\n",
       "    </tr>\n",
       "    <tr>\n",
       "      <th>3</th>\n",
       "      <td>4</td>\n",
       "      <td>Wii Sports Resort</td>\n",
       "      <td>Wii</td>\n",
       "      <td>2009.0</td>\n",
       "      <td>Sports</td>\n",
       "      <td>Nintendo</td>\n",
       "      <td>15.75</td>\n",
       "      <td>11.01</td>\n",
       "      <td>3.28</td>\n",
       "      <td>2.96</td>\n",
       "      <td>33.00</td>\n",
       "    </tr>\n",
       "    <tr>\n",
       "      <th>4</th>\n",
       "      <td>5</td>\n",
       "      <td>Pokemon Red/Pokemon Blue</td>\n",
       "      <td>GB</td>\n",
       "      <td>1996.0</td>\n",
       "      <td>Role-Playing</td>\n",
       "      <td>Nintendo</td>\n",
       "      <td>11.27</td>\n",
       "      <td>8.89</td>\n",
       "      <td>10.22</td>\n",
       "      <td>1.00</td>\n",
       "      <td>31.37</td>\n",
       "    </tr>\n",
       "    <tr>\n",
       "      <th>5</th>\n",
       "      <td>6</td>\n",
       "      <td>Tetris</td>\n",
       "      <td>GB</td>\n",
       "      <td>1989.0</td>\n",
       "      <td>Puzzle</td>\n",
       "      <td>Nintendo</td>\n",
       "      <td>23.20</td>\n",
       "      <td>2.26</td>\n",
       "      <td>4.22</td>\n",
       "      <td>0.58</td>\n",
       "      <td>30.26</td>\n",
       "    </tr>\n",
       "    <tr>\n",
       "      <th>6</th>\n",
       "      <td>7</td>\n",
       "      <td>New Super Mario Bros.</td>\n",
       "      <td>DS</td>\n",
       "      <td>2006.0</td>\n",
       "      <td>Platform</td>\n",
       "      <td>Nintendo</td>\n",
       "      <td>11.38</td>\n",
       "      <td>9.23</td>\n",
       "      <td>6.50</td>\n",
       "      <td>2.90</td>\n",
       "      <td>30.01</td>\n",
       "    </tr>\n",
       "    <tr>\n",
       "      <th>7</th>\n",
       "      <td>8</td>\n",
       "      <td>Wii Play</td>\n",
       "      <td>Wii</td>\n",
       "      <td>2006.0</td>\n",
       "      <td>Misc</td>\n",
       "      <td>Nintendo</td>\n",
       "      <td>14.03</td>\n",
       "      <td>9.20</td>\n",
       "      <td>2.93</td>\n",
       "      <td>2.85</td>\n",
       "      <td>29.02</td>\n",
       "    </tr>\n",
       "    <tr>\n",
       "      <th>8</th>\n",
       "      <td>9</td>\n",
       "      <td>New Super Mario Bros. Wii</td>\n",
       "      <td>Wii</td>\n",
       "      <td>2009.0</td>\n",
       "      <td>Platform</td>\n",
       "      <td>Nintendo</td>\n",
       "      <td>14.59</td>\n",
       "      <td>7.06</td>\n",
       "      <td>4.70</td>\n",
       "      <td>2.26</td>\n",
       "      <td>28.62</td>\n",
       "    </tr>\n",
       "    <tr>\n",
       "      <th>9</th>\n",
       "      <td>10</td>\n",
       "      <td>Duck Hunt</td>\n",
       "      <td>NES</td>\n",
       "      <td>1984.0</td>\n",
       "      <td>Shooter</td>\n",
       "      <td>Nintendo</td>\n",
       "      <td>26.93</td>\n",
       "      <td>0.63</td>\n",
       "      <td>0.28</td>\n",
       "      <td>0.47</td>\n",
       "      <td>28.31</td>\n",
       "    </tr>\n",
       "  </tbody>\n",
       "</table>\n",
       "</div>"
      ],
      "text/plain": [
       "   Rank                       Name Platform    Year         Genre Publisher  \\\n",
       "0     1                 Wii Sports      Wii  2006.0        Sports  Nintendo   \n",
       "1     2          Super Mario Bros.      NES  1985.0      Platform  Nintendo   \n",
       "2     3             Mario Kart Wii      Wii  2008.0        Racing  Nintendo   \n",
       "3     4          Wii Sports Resort      Wii  2009.0        Sports  Nintendo   \n",
       "4     5   Pokemon Red/Pokemon Blue       GB  1996.0  Role-Playing  Nintendo   \n",
       "5     6                     Tetris       GB  1989.0        Puzzle  Nintendo   \n",
       "6     7      New Super Mario Bros.       DS  2006.0      Platform  Nintendo   \n",
       "7     8                   Wii Play      Wii  2006.0          Misc  Nintendo   \n",
       "8     9  New Super Mario Bros. Wii      Wii  2009.0      Platform  Nintendo   \n",
       "9    10                  Duck Hunt      NES  1984.0       Shooter  Nintendo   \n",
       "\n",
       "   NA_Sales  EU_Sales  JP_Sales  Other_Sales  Global_Sales  \n",
       "0     41.49     29.02      3.77         8.46         82.74  \n",
       "1     29.08      3.58      6.81         0.77         40.24  \n",
       "2     15.85     12.88      3.79         3.31         35.82  \n",
       "3     15.75     11.01      3.28         2.96         33.00  \n",
       "4     11.27      8.89     10.22         1.00         31.37  \n",
       "5     23.20      2.26      4.22         0.58         30.26  \n",
       "6     11.38      9.23      6.50         2.90         30.01  \n",
       "7     14.03      9.20      2.93         2.85         29.02  \n",
       "8     14.59      7.06      4.70         2.26         28.62  \n",
       "9     26.93      0.63      0.28         0.47         28.31  "
      ]
     },
     "execution_count": 10,
     "metadata": {},
     "output_type": "execute_result"
    }
   ],
   "source": [
    "import pandas as pd\n",
    "data = pd.read_csv(\"https://raw.githubusercontent.com/TirendazAcademy/PANDAS-TUTORIAL/main/DataSets/vgsalesGlobale.csv\")\n",
    "data.head(10)"
   ]
  },
  {
   "cell_type": "markdown",
   "metadata": {
    "id": "Qq4VH1Jkts32"
   },
   "source": [
    "dataset link : https://raw.githubusercontent.com/TirendazAcademy/PANDAS-TUTORIAL/main/DataSets/vgsalesGlobale.csv\n",
    "#Exercise\n",
    "Use the dataset of Game, we have explored earlier and perform following operations.\n",
    "\n",
    "* Calculate the total global sales for all games in the dataset.\n",
    "* Find the game with the highest global sales.\n",
    "* Determine the average sales for each region (NA_Sales, EU_Sales, JP_Sales, Other_Sales).\n",
    "* Find the top 5 most popular game genres based on global sales.\n",
    "* Calculate the total sales for each genre in each region and find the most popular genre in North America (NA_Sales).\n",
    "* Display last 10 rows.\n",
    "* Determine the top 3 gaming platforms with the highest global sales.\n",
    "* Calculate the market share (percentage of global sales) for each genre.\n",
    "* Calculate the correlation coefficient between NA_Sales and EU_Sales. (.corr function)"
   ]
  },
  {
   "cell_type": "code",
   "execution_count": 91,
   "metadata": {},
   "outputs": [
    {
     "name": "stdout",
     "output_type": "stream",
     "text": [
      "Total global sales  8920.44\n"
     ]
    }
   ],
   "source": [
    "# -------- Toatal GB sales --------------\n",
    "total_GB_sales = data[\"Global_Sales\"].sum()\n",
    "print(\"Total global sales \",total_GB_sales)"
   ]
  },
  {
   "cell_type": "code",
   "execution_count": 90,
   "metadata": {},
   "outputs": [
    {
     "name": "stdout",
     "output_type": "stream",
     "text": [
      "Game with highest global sales :  0    Wii Sports\n",
      "Name: Name, dtype: object\n"
     ]
    }
   ],
   "source": [
    "# ---------- Game with highest global sales ---------------\n",
    "max = data[\"Global_Sales\"].max()\n",
    "highest_GB_game = data[data[\"Global_Sales\"] == max].Name\n",
    "print(\"Game with highest global sales : \" , highest_GB_game  )"
   ]
  },
  {
   "cell_type": "code",
   "execution_count": 89,
   "metadata": {},
   "outputs": [
    {
     "name": "stdout",
     "output_type": "stream",
     "text": [
      "average for NA_Sales 0.26466742981082064\n",
      "average for EU_Sales 0.14665200626581515\n",
      "average for JP_Sales 0.077781660441017\n",
      "average for Other_Sales 0.0480630196409206\n"
     ]
    }
   ],
   "source": [
    "# average sale for all ----------------\n",
    "print(\"average for NA_Sales\" , data[\"NA_Sales\"].mean()) \n",
    "print(\"average for EU_Sales\",data[\"EU_Sales\"].mean())\n",
    "print(\"average for JP_Sales\",data[\"JP_Sales\"].mean())\n",
    "print(\"average for Other_Sales\",data[\"Other_Sales\"].mean())"
   ]
  },
  {
   "cell_type": "code",
   "execution_count": 88,
   "metadata": {},
   "outputs": [
    {
     "name": "stdout",
     "output_type": "stream",
     "text": [
      "The TOP 5 genre are : \n"
     ]
    },
    {
     "data": {
      "text/plain": [
       "16597     Platform\n",
       "16188         Misc\n",
       "16187       Puzzle\n",
       "16186     Strategy\n",
       "16185    Adventure\n",
       "Name: Genre, dtype: object"
      ]
     },
     "execution_count": 88,
     "metadata": {},
     "output_type": "execute_result"
    }
   ],
   "source": [
    "#------- The TOP 5 genre ---------\n",
    "df = data.sort_values(by=['Global_Sales'])\n",
    "print(\"The TOP 5 genre are : \")\n",
    "df.Genre.head(5)"
   ]
  },
  {
   "cell_type": "code",
   "execution_count": 87,
   "metadata": {},
   "outputs": [
    {
     "name": "stdout",
     "output_type": "stream",
     "text": [
      "most popular genre according to NA_sales is : \n"
     ]
    },
    {
     "data": {
      "text/plain": [
       "16597    Platform\n",
       "Name: Genre, dtype: object"
      ]
     },
     "execution_count": 87,
     "metadata": {},
     "output_type": "execute_result"
    }
   ],
   "source": [
    "# ---------- most popular genre according to NA_sales --------------\n",
    "df1 = data.sort_values(by=['NA_Sales'])\n",
    "print(\"most popular genre according to NA_sales is : \")\n",
    "df.Genre.head(1)"
   ]
  },
  {
   "cell_type": "code",
   "execution_count": 75,
   "metadata": {},
   "outputs": [
    {
     "data": {
      "text/html": [
       "<div>\n",
       "<style scoped>\n",
       "    .dataframe tbody tr th:only-of-type {\n",
       "        vertical-align: middle;\n",
       "    }\n",
       "\n",
       "    .dataframe tbody tr th {\n",
       "        vertical-align: top;\n",
       "    }\n",
       "\n",
       "    .dataframe thead th {\n",
       "        text-align: right;\n",
       "    }\n",
       "</style>\n",
       "<table border=\"1\" class=\"dataframe\">\n",
       "  <thead>\n",
       "    <tr style=\"text-align: right;\">\n",
       "      <th></th>\n",
       "      <th>Rank</th>\n",
       "      <th>Name</th>\n",
       "      <th>Platform</th>\n",
       "      <th>Year</th>\n",
       "      <th>Publisher</th>\n",
       "      <th>NA_Sales</th>\n",
       "      <th>EU_Sales</th>\n",
       "      <th>JP_Sales</th>\n",
       "      <th>Other_Sales</th>\n",
       "      <th>Global_Sales</th>\n",
       "    </tr>\n",
       "    <tr>\n",
       "      <th>Genre</th>\n",
       "      <th></th>\n",
       "      <th></th>\n",
       "      <th></th>\n",
       "      <th></th>\n",
       "      <th></th>\n",
       "      <th></th>\n",
       "      <th></th>\n",
       "      <th></th>\n",
       "      <th></th>\n",
       "      <th></th>\n",
       "    </tr>\n",
       "  </thead>\n",
       "  <tbody>\n",
       "    <tr>\n",
       "      <th>Action</th>\n",
       "      <td>26441383</td>\n",
       "      <td>Grand Theft Auto VGrand Theft Auto: San Andrea...</td>\n",
       "      <td>PS3PS2X360PS2PS2PS4DSX360PS3PS3PSPN64WiiPS3PS3...</td>\n",
       "      <td>6531731.0</td>\n",
       "      <td>Take-Two InteractiveTake-Two InteractiveTake-T...</td>\n",
       "      <td>877.83</td>\n",
       "      <td>525.00</td>\n",
       "      <td>159.95</td>\n",
       "      <td>187.38</td>\n",
       "      <td>1751.18</td>\n",
       "    </tr>\n",
       "    <tr>\n",
       "      <th>Adventure</th>\n",
       "      <td>14831165</td>\n",
       "      <td>Super Mario Land 2: 6 Golden CoinsAssassin's C...</td>\n",
       "      <td>GBX360PS3NESPSPS3DSPS3PCX360PCGBAPS2GBPSGCGBPS...</td>\n",
       "      <td>2562375.0</td>\n",
       "      <td>NintendoUbisoftUbisoftNintendoTHQTake-Two Inte...</td>\n",
       "      <td>105.80</td>\n",
       "      <td>64.13</td>\n",
       "      <td>52.07</td>\n",
       "      <td>16.81</td>\n",
       "      <td>239.04</td>\n",
       "    </tr>\n",
       "    <tr>\n",
       "      <th>Fighting</th>\n",
       "      <td>6484242</td>\n",
       "      <td>Super Smash Bros. BrawlSuper Smash Bros. for W...</td>\n",
       "      <td>Wii3DSPSGCSNESPSN64WiiUPS3SNESPS2PS2PSPS2PSPSS...</td>\n",
       "      <td>1675871.0</td>\n",
       "      <td>NintendoNintendoSony Computer EntertainmentNin...</td>\n",
       "      <td>223.59</td>\n",
       "      <td>101.32</td>\n",
       "      <td>87.35</td>\n",
       "      <td>36.68</td>\n",
       "      <td>448.91</td>\n",
       "    </tr>\n",
       "    <tr>\n",
       "      <th>Misc</th>\n",
       "      <td>14889052</td>\n",
       "      <td>Wii PlayKinect Adventures!Brain Age: Train You...</td>\n",
       "      <td>WiiX360DSWiiWiiX360DSWiiWiiWiiWiiDSPS3GBPS2PS2...</td>\n",
       "      <td>3432412.0</td>\n",
       "      <td>NintendoMicrosoft Game StudiosNintendoUbisoftU...</td>\n",
       "      <td>410.24</td>\n",
       "      <td>215.98</td>\n",
       "      <td>107.76</td>\n",
       "      <td>75.32</td>\n",
       "      <td>809.96</td>\n",
       "    </tr>\n",
       "    <tr>\n",
       "      <th>Platform</th>\n",
       "      <td>6137545</td>\n",
       "      <td>Super Mario Bros.New Super Mario Bros.New Supe...</td>\n",
       "      <td>NESDSWiiSNESGBNESN64Wii3DSSNESDS3DSSNESWiiPSNE...</td>\n",
       "      <td>1755347.0</td>\n",
       "      <td>NintendoNintendoNintendoNintendoNintendoNinten...</td>\n",
       "      <td>447.05</td>\n",
       "      <td>201.63</td>\n",
       "      <td>130.77</td>\n",
       "      <td>51.59</td>\n",
       "      <td>831.37</td>\n",
       "    </tr>\n",
       "    <tr>\n",
       "      <th>Puzzle</th>\n",
       "      <td>5603136</td>\n",
       "      <td>TetrisBrain Age 2: More Training in Minutes a ...</td>\n",
       "      <td>GBDS2600NESGBDSNESDSDSGBAWiiDSDSPSDSDSDSDSPS2D...</td>\n",
       "      <td>1144994.0</td>\n",
       "      <td>NintendoNintendoAtariNintendoNintendoNintendoN...</td>\n",
       "      <td>123.78</td>\n",
       "      <td>50.78</td>\n",
       "      <td>57.31</td>\n",
       "      <td>12.55</td>\n",
       "      <td>244.95</td>\n",
       "    </tr>\n",
       "    <tr>\n",
       "      <th>Racing</th>\n",
       "      <td>9943933</td>\n",
       "      <td>Mario Kart WiiMario Kart DSGran Turismo 3: A-S...</td>\n",
       "      <td>WiiDSPS23DSPS2PSPS3N64PSSNESPS2WiiUGCPS2X360GB...</td>\n",
       "      <td>2457934.0</td>\n",
       "      <td>NintendoNintendoSony Computer EntertainmentNin...</td>\n",
       "      <td>359.42</td>\n",
       "      <td>238.39</td>\n",
       "      <td>56.69</td>\n",
       "      <td>77.27</td>\n",
       "      <td>732.04</td>\n",
       "    </tr>\n",
       "    <tr>\n",
       "      <th>Role-Playing</th>\n",
       "      <td>12032228</td>\n",
       "      <td>Pokemon Red/Pokemon BluePokemon Gold/Pokemon S...</td>\n",
       "      <td>GBGBDSGBADSGB3DS3DSGBAPSX360DSPS2PSDSPS4PS3GBA...</td>\n",
       "      <td>2952379.0</td>\n",
       "      <td>NintendoNintendoNintendoNintendoNintendoNinten...</td>\n",
       "      <td>327.28</td>\n",
       "      <td>188.06</td>\n",
       "      <td>352.31</td>\n",
       "      <td>59.61</td>\n",
       "      <td>927.37</td>\n",
       "    </tr>\n",
       "    <tr>\n",
       "      <th>Shooter</th>\n",
       "      <td>9653872</td>\n",
       "      <td>Duck HuntCall of Duty: Modern Warfare 3Call of...</td>\n",
       "      <td>NESX360X360PS4PS3X360X360PS3PS3X360PS3X360X360...</td>\n",
       "      <td>2571588.0</td>\n",
       "      <td>NintendoActivisionActivisionActivisionActivisi...</td>\n",
       "      <td>582.60</td>\n",
       "      <td>313.27</td>\n",
       "      <td>38.28</td>\n",
       "      <td>102.69</td>\n",
       "      <td>1037.37</td>\n",
       "    </tr>\n",
       "    <tr>\n",
       "      <th>Simulation</th>\n",
       "      <td>7478816</td>\n",
       "      <td>NintendogsAnimal Crossing: Wild WorldAnimal Cr...</td>\n",
       "      <td>DSDS3DSPCDS3DSPCWii3DSPCDSN64DSPS2GCPC3DSPCWii...</td>\n",
       "      <td>1707589.0</td>\n",
       "      <td>NintendoNintendoNintendoElectronic Arts505 Gam...</td>\n",
       "      <td>183.31</td>\n",
       "      <td>113.38</td>\n",
       "      <td>63.70</td>\n",
       "      <td>31.52</td>\n",
       "      <td>392.20</td>\n",
       "    </tr>\n",
       "    <tr>\n",
       "      <th>Sports</th>\n",
       "      <td>17419112</td>\n",
       "      <td>Wii SportsWii Sports ResortWii FitWii Fit Plus...</td>\n",
       "      <td>WiiWiiWiiWiiPS4WiiPS3WiiPS3PS4X360PS2DSPS3PSPS...</td>\n",
       "      <td>4620621.0</td>\n",
       "      <td>NintendoNintendoNintendoNintendoElectronic Art...</td>\n",
       "      <td>683.35</td>\n",
       "      <td>376.85</td>\n",
       "      <td>135.37</td>\n",
       "      <td>134.97</td>\n",
       "      <td>1330.93</td>\n",
       "    </tr>\n",
       "    <tr>\n",
       "      <th>Strategy</th>\n",
       "      <td>6858962</td>\n",
       "      <td>Pokemon StadiumWarzone 2100StarCraft II: Wings...</td>\n",
       "      <td>N64PSPCPCGBPCN64X360PCPCPCGBAPCPCGCGBPCDSPCPCN...</td>\n",
       "      <td>1345757.0</td>\n",
       "      <td>NintendoEidos InteractiveActivisionActivisionN...</td>\n",
       "      <td>68.70</td>\n",
       "      <td>45.34</td>\n",
       "      <td>49.46</td>\n",
       "      <td>11.36</td>\n",
       "      <td>175.12</td>\n",
       "    </tr>\n",
       "  </tbody>\n",
       "</table>\n",
       "</div>"
      ],
      "text/plain": [
       "                  Rank                                               Name  \\\n",
       "Genre                                                                       \n",
       "Action        26441383  Grand Theft Auto VGrand Theft Auto: San Andrea...   \n",
       "Adventure     14831165  Super Mario Land 2: 6 Golden CoinsAssassin's C...   \n",
       "Fighting       6484242  Super Smash Bros. BrawlSuper Smash Bros. for W...   \n",
       "Misc          14889052  Wii PlayKinect Adventures!Brain Age: Train You...   \n",
       "Platform       6137545  Super Mario Bros.New Super Mario Bros.New Supe...   \n",
       "Puzzle         5603136  TetrisBrain Age 2: More Training in Minutes a ...   \n",
       "Racing         9943933  Mario Kart WiiMario Kart DSGran Turismo 3: A-S...   \n",
       "Role-Playing  12032228  Pokemon Red/Pokemon BluePokemon Gold/Pokemon S...   \n",
       "Shooter        9653872  Duck HuntCall of Duty: Modern Warfare 3Call of...   \n",
       "Simulation     7478816  NintendogsAnimal Crossing: Wild WorldAnimal Cr...   \n",
       "Sports        17419112  Wii SportsWii Sports ResortWii FitWii Fit Plus...   \n",
       "Strategy       6858962  Pokemon StadiumWarzone 2100StarCraft II: Wings...   \n",
       "\n",
       "                                                       Platform       Year  \\\n",
       "Genre                                                                        \n",
       "Action        PS3PS2X360PS2PS2PS4DSX360PS3PS3PSPN64WiiPS3PS3...  6531731.0   \n",
       "Adventure     GBX360PS3NESPSPS3DSPS3PCX360PCGBAPS2GBPSGCGBPS...  2562375.0   \n",
       "Fighting      Wii3DSPSGCSNESPSN64WiiUPS3SNESPS2PS2PSPS2PSPSS...  1675871.0   \n",
       "Misc          WiiX360DSWiiWiiX360DSWiiWiiWiiWiiDSPS3GBPS2PS2...  3432412.0   \n",
       "Platform      NESDSWiiSNESGBNESN64Wii3DSSNESDS3DSSNESWiiPSNE...  1755347.0   \n",
       "Puzzle        GBDS2600NESGBDSNESDSDSGBAWiiDSDSPSDSDSDSDSPS2D...  1144994.0   \n",
       "Racing        WiiDSPS23DSPS2PSPS3N64PSSNESPS2WiiUGCPS2X360GB...  2457934.0   \n",
       "Role-Playing  GBGBDSGBADSGB3DS3DSGBAPSX360DSPS2PSDSPS4PS3GBA...  2952379.0   \n",
       "Shooter       NESX360X360PS4PS3X360X360PS3PS3X360PS3X360X360...  2571588.0   \n",
       "Simulation    DSDS3DSPCDS3DSPCWii3DSPCDSN64DSPS2GCPC3DSPCWii...  1707589.0   \n",
       "Sports        WiiWiiWiiWiiPS4WiiPS3WiiPS3PS4X360PS2DSPS3PSPS...  4620621.0   \n",
       "Strategy      N64PSPCPCGBPCN64X360PCPCPCGBAPCPCGCGBPCDSPCPCN...  1345757.0   \n",
       "\n",
       "                                                      Publisher  NA_Sales  \\\n",
       "Genre                                                                       \n",
       "Action        Take-Two InteractiveTake-Two InteractiveTake-T...    877.83   \n",
       "Adventure     NintendoUbisoftUbisoftNintendoTHQTake-Two Inte...    105.80   \n",
       "Fighting      NintendoNintendoSony Computer EntertainmentNin...    223.59   \n",
       "Misc          NintendoMicrosoft Game StudiosNintendoUbisoftU...    410.24   \n",
       "Platform      NintendoNintendoNintendoNintendoNintendoNinten...    447.05   \n",
       "Puzzle        NintendoNintendoAtariNintendoNintendoNintendoN...    123.78   \n",
       "Racing        NintendoNintendoSony Computer EntertainmentNin...    359.42   \n",
       "Role-Playing  NintendoNintendoNintendoNintendoNintendoNinten...    327.28   \n",
       "Shooter       NintendoActivisionActivisionActivisionActivisi...    582.60   \n",
       "Simulation    NintendoNintendoNintendoElectronic Arts505 Gam...    183.31   \n",
       "Sports        NintendoNintendoNintendoNintendoElectronic Art...    683.35   \n",
       "Strategy      NintendoEidos InteractiveActivisionActivisionN...     68.70   \n",
       "\n",
       "              EU_Sales  JP_Sales  Other_Sales  Global_Sales  \n",
       "Genre                                                        \n",
       "Action          525.00    159.95       187.38       1751.18  \n",
       "Adventure        64.13     52.07        16.81        239.04  \n",
       "Fighting        101.32     87.35        36.68        448.91  \n",
       "Misc            215.98    107.76        75.32        809.96  \n",
       "Platform        201.63    130.77        51.59        831.37  \n",
       "Puzzle           50.78     57.31        12.55        244.95  \n",
       "Racing          238.39     56.69        77.27        732.04  \n",
       "Role-Playing    188.06    352.31        59.61        927.37  \n",
       "Shooter         313.27     38.28       102.69       1037.37  \n",
       "Simulation      113.38     63.70        31.52        392.20  \n",
       "Sports          376.85    135.37       134.97       1330.93  \n",
       "Strategy         45.34     49.46        11.36        175.12  "
      ]
     },
     "execution_count": 75,
     "metadata": {},
     "output_type": "execute_result"
    }
   ],
   "source": [
    "df2 = data.groupby(\"Genre\").sum()\n",
    "df2"
   ]
  },
  {
   "cell_type": "code",
   "execution_count": 43,
   "metadata": {},
   "outputs": [
    {
     "data": {
      "text/html": [
       "<div>\n",
       "<style scoped>\n",
       "    .dataframe tbody tr th:only-of-type {\n",
       "        vertical-align: middle;\n",
       "    }\n",
       "\n",
       "    .dataframe tbody tr th {\n",
       "        vertical-align: top;\n",
       "    }\n",
       "\n",
       "    .dataframe thead th {\n",
       "        text-align: right;\n",
       "    }\n",
       "</style>\n",
       "<table border=\"1\" class=\"dataframe\">\n",
       "  <thead>\n",
       "    <tr style=\"text-align: right;\">\n",
       "      <th></th>\n",
       "      <th>Rank</th>\n",
       "      <th>Name</th>\n",
       "      <th>Platform</th>\n",
       "      <th>Year</th>\n",
       "      <th>Genre</th>\n",
       "      <th>Publisher</th>\n",
       "      <th>NA_Sales</th>\n",
       "      <th>EU_Sales</th>\n",
       "      <th>JP_Sales</th>\n",
       "      <th>Other_Sales</th>\n",
       "      <th>Global_Sales</th>\n",
       "    </tr>\n",
       "  </thead>\n",
       "  <tbody>\n",
       "    <tr>\n",
       "      <th>16588</th>\n",
       "      <td>16591</td>\n",
       "      <td>Mega Brain Boost</td>\n",
       "      <td>DS</td>\n",
       "      <td>2008.0</td>\n",
       "      <td>Puzzle</td>\n",
       "      <td>Majesco Entertainment</td>\n",
       "      <td>0.01</td>\n",
       "      <td>0.00</td>\n",
       "      <td>0.00</td>\n",
       "      <td>0.0</td>\n",
       "      <td>0.01</td>\n",
       "    </tr>\n",
       "    <tr>\n",
       "      <th>16589</th>\n",
       "      <td>16592</td>\n",
       "      <td>Chou Ezaru wa Akai Hana: Koi wa Tsuki ni Shiru...</td>\n",
       "      <td>PSV</td>\n",
       "      <td>2016.0</td>\n",
       "      <td>Action</td>\n",
       "      <td>dramatic create</td>\n",
       "      <td>0.00</td>\n",
       "      <td>0.00</td>\n",
       "      <td>0.01</td>\n",
       "      <td>0.0</td>\n",
       "      <td>0.01</td>\n",
       "    </tr>\n",
       "    <tr>\n",
       "      <th>16590</th>\n",
       "      <td>16593</td>\n",
       "      <td>Eiyuu Densetsu: Sora no Kiseki Material Collec...</td>\n",
       "      <td>PSP</td>\n",
       "      <td>2007.0</td>\n",
       "      <td>Role-Playing</td>\n",
       "      <td>Falcom Corporation</td>\n",
       "      <td>0.00</td>\n",
       "      <td>0.00</td>\n",
       "      <td>0.01</td>\n",
       "      <td>0.0</td>\n",
       "      <td>0.01</td>\n",
       "    </tr>\n",
       "    <tr>\n",
       "      <th>16591</th>\n",
       "      <td>16594</td>\n",
       "      <td>Myst IV: Revelation</td>\n",
       "      <td>PC</td>\n",
       "      <td>2004.0</td>\n",
       "      <td>Adventure</td>\n",
       "      <td>Ubisoft</td>\n",
       "      <td>0.01</td>\n",
       "      <td>0.00</td>\n",
       "      <td>0.00</td>\n",
       "      <td>0.0</td>\n",
       "      <td>0.01</td>\n",
       "    </tr>\n",
       "    <tr>\n",
       "      <th>16592</th>\n",
       "      <td>16595</td>\n",
       "      <td>Plushees</td>\n",
       "      <td>DS</td>\n",
       "      <td>2008.0</td>\n",
       "      <td>Simulation</td>\n",
       "      <td>Destineer</td>\n",
       "      <td>0.01</td>\n",
       "      <td>0.00</td>\n",
       "      <td>0.00</td>\n",
       "      <td>0.0</td>\n",
       "      <td>0.01</td>\n",
       "    </tr>\n",
       "    <tr>\n",
       "      <th>16593</th>\n",
       "      <td>16596</td>\n",
       "      <td>Woody Woodpecker in Crazy Castle 5</td>\n",
       "      <td>GBA</td>\n",
       "      <td>2002.0</td>\n",
       "      <td>Platform</td>\n",
       "      <td>Kemco</td>\n",
       "      <td>0.01</td>\n",
       "      <td>0.00</td>\n",
       "      <td>0.00</td>\n",
       "      <td>0.0</td>\n",
       "      <td>0.01</td>\n",
       "    </tr>\n",
       "    <tr>\n",
       "      <th>16594</th>\n",
       "      <td>16597</td>\n",
       "      <td>Men in Black II: Alien Escape</td>\n",
       "      <td>GC</td>\n",
       "      <td>2003.0</td>\n",
       "      <td>Shooter</td>\n",
       "      <td>Infogrames</td>\n",
       "      <td>0.01</td>\n",
       "      <td>0.00</td>\n",
       "      <td>0.00</td>\n",
       "      <td>0.0</td>\n",
       "      <td>0.01</td>\n",
       "    </tr>\n",
       "    <tr>\n",
       "      <th>16595</th>\n",
       "      <td>16598</td>\n",
       "      <td>SCORE International Baja 1000: The Official Game</td>\n",
       "      <td>PS2</td>\n",
       "      <td>2008.0</td>\n",
       "      <td>Racing</td>\n",
       "      <td>Activision</td>\n",
       "      <td>0.00</td>\n",
       "      <td>0.00</td>\n",
       "      <td>0.00</td>\n",
       "      <td>0.0</td>\n",
       "      <td>0.01</td>\n",
       "    </tr>\n",
       "    <tr>\n",
       "      <th>16596</th>\n",
       "      <td>16599</td>\n",
       "      <td>Know How 2</td>\n",
       "      <td>DS</td>\n",
       "      <td>2010.0</td>\n",
       "      <td>Puzzle</td>\n",
       "      <td>7G//AMES</td>\n",
       "      <td>0.00</td>\n",
       "      <td>0.01</td>\n",
       "      <td>0.00</td>\n",
       "      <td>0.0</td>\n",
       "      <td>0.01</td>\n",
       "    </tr>\n",
       "    <tr>\n",
       "      <th>16597</th>\n",
       "      <td>16600</td>\n",
       "      <td>Spirits &amp; Spells</td>\n",
       "      <td>GBA</td>\n",
       "      <td>2003.0</td>\n",
       "      <td>Platform</td>\n",
       "      <td>Wanadoo</td>\n",
       "      <td>0.01</td>\n",
       "      <td>0.00</td>\n",
       "      <td>0.00</td>\n",
       "      <td>0.0</td>\n",
       "      <td>0.01</td>\n",
       "    </tr>\n",
       "  </tbody>\n",
       "</table>\n",
       "</div>"
      ],
      "text/plain": [
       "        Rank                                               Name Platform  \\\n",
       "16588  16591                                   Mega Brain Boost       DS   \n",
       "16589  16592  Chou Ezaru wa Akai Hana: Koi wa Tsuki ni Shiru...      PSV   \n",
       "16590  16593  Eiyuu Densetsu: Sora no Kiseki Material Collec...      PSP   \n",
       "16591  16594                                Myst IV: Revelation       PC   \n",
       "16592  16595                                           Plushees       DS   \n",
       "16593  16596                 Woody Woodpecker in Crazy Castle 5      GBA   \n",
       "16594  16597                      Men in Black II: Alien Escape       GC   \n",
       "16595  16598   SCORE International Baja 1000: The Official Game      PS2   \n",
       "16596  16599                                         Know How 2       DS   \n",
       "16597  16600                                   Spirits & Spells      GBA   \n",
       "\n",
       "         Year         Genre              Publisher  NA_Sales  EU_Sales  \\\n",
       "16588  2008.0        Puzzle  Majesco Entertainment      0.01      0.00   \n",
       "16589  2016.0        Action        dramatic create      0.00      0.00   \n",
       "16590  2007.0  Role-Playing     Falcom Corporation      0.00      0.00   \n",
       "16591  2004.0     Adventure                Ubisoft      0.01      0.00   \n",
       "16592  2008.0    Simulation              Destineer      0.01      0.00   \n",
       "16593  2002.0      Platform                  Kemco      0.01      0.00   \n",
       "16594  2003.0       Shooter             Infogrames      0.01      0.00   \n",
       "16595  2008.0        Racing             Activision      0.00      0.00   \n",
       "16596  2010.0        Puzzle               7G//AMES      0.00      0.01   \n",
       "16597  2003.0      Platform                Wanadoo      0.01      0.00   \n",
       "\n",
       "       JP_Sales  Other_Sales  Global_Sales  \n",
       "16588      0.00          0.0          0.01  \n",
       "16589      0.01          0.0          0.01  \n",
       "16590      0.01          0.0          0.01  \n",
       "16591      0.00          0.0          0.01  \n",
       "16592      0.00          0.0          0.01  \n",
       "16593      0.00          0.0          0.01  \n",
       "16594      0.00          0.0          0.01  \n",
       "16595      0.00          0.0          0.01  \n",
       "16596      0.00          0.0          0.01  \n",
       "16597      0.00          0.0          0.01  "
      ]
     },
     "execution_count": 43,
     "metadata": {},
     "output_type": "execute_result"
    }
   ],
   "source": [
    "data.tail(10)"
   ]
  },
  {
   "cell_type": "code",
   "execution_count": 44,
   "metadata": {},
   "outputs": [
    {
     "name": "stdout",
     "output_type": "stream",
     "text": [
      "The TOP 3 gaming Platform are : \n"
     ]
    },
    {
     "data": {
      "text/plain": [
       "16597    GBA\n",
       "16188    PS3\n",
       "16187     PC\n",
       "Name: Platform, dtype: object"
      ]
     },
     "execution_count": 44,
     "metadata": {},
     "output_type": "execute_result"
    }
   ],
   "source": [
    "print(\"The TOP 3 gaming Platform are : \")\n",
    "df.Platform.head(3)"
   ]
  },
  {
   "cell_type": "code",
   "execution_count": 86,
   "metadata": {},
   "outputs": [
    {
     "name": "stdout",
     "output_type": "stream",
     "text": [
      "Market share is :  19.63109443031958 %\n",
      "Market share is :  2.6796884458614145 %\n",
      "Market share is :  5.0323750846370805 %\n",
      "Market share is :  9.079821174740259 %\n",
      "Market share is :  9.319831757177896 %\n",
      "Market share is :  2.7459407831900666 %\n",
      "Market share is :  8.206321661263345 %\n",
      "Market share is :  10.396011855917422 %\n",
      "Market share is :  11.629134885723124 %\n",
      "Market share is :  4.396644111725431 %\n",
      "Market share is :  14.920003945993695 %\n",
      "Market share is :  1.9631318634506818 %\n"
     ]
    }
   ],
   "source": [
    "# ---------------Market share ----------------------\n",
    "share = df2[\"Global_Sales\"]\n",
    "total = df2[\"Global_Sales\"].sum()\n",
    "for i in range(12):\n",
    "    print(\"Market share is : \",(share.iloc[i]/total)*100 , \"%\")\n"
   ]
  },
  {
   "cell_type": "code",
   "execution_count": 85,
   "metadata": {},
   "outputs": [
    {
     "data": {
      "text/html": [
       "<div>\n",
       "<style scoped>\n",
       "    .dataframe tbody tr th:only-of-type {\n",
       "        vertical-align: middle;\n",
       "    }\n",
       "\n",
       "    .dataframe tbody tr th {\n",
       "        vertical-align: top;\n",
       "    }\n",
       "\n",
       "    .dataframe thead th {\n",
       "        text-align: right;\n",
       "    }\n",
       "</style>\n",
       "<table border=\"1\" class=\"dataframe\">\n",
       "  <thead>\n",
       "    <tr style=\"text-align: right;\">\n",
       "      <th></th>\n",
       "      <th>NA_Sales</th>\n",
       "      <th>EU_Sales</th>\n",
       "    </tr>\n",
       "  </thead>\n",
       "  <tbody>\n",
       "    <tr>\n",
       "      <th>NA_Sales</th>\n",
       "      <td>1.000000</td>\n",
       "      <td>0.767727</td>\n",
       "    </tr>\n",
       "    <tr>\n",
       "      <th>EU_Sales</th>\n",
       "      <td>0.767727</td>\n",
       "      <td>1.000000</td>\n",
       "    </tr>\n",
       "  </tbody>\n",
       "</table>\n",
       "</div>"
      ],
      "text/plain": [
       "          NA_Sales  EU_Sales\n",
       "NA_Sales  1.000000  0.767727\n",
       "EU_Sales  0.767727  1.000000"
      ]
     },
     "execution_count": 85,
     "metadata": {},
     "output_type": "execute_result"
    }
   ],
   "source": [
    "# ------------------ correlation -----------------------\n",
    "data[[\"NA_Sales\",\"EU_Sales\"]].corr()"
   ]
  }
 ],
 "metadata": {
  "colab": {
   "provenance": []
  },
  "kernelspec": {
   "display_name": "Python 3 (ipykernel)",
   "language": "python",
   "name": "python3"
  },
  "language_info": {
   "codemirror_mode": {
    "name": "ipython",
    "version": 3
   },
   "file_extension": ".py",
   "mimetype": "text/x-python",
   "name": "python",
   "nbconvert_exporter": "python",
   "pygments_lexer": "ipython3",
   "version": "3.11.6"
  }
 },
 "nbformat": 4,
 "nbformat_minor": 4
}
